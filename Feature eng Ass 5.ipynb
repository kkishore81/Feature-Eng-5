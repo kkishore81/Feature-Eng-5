{
 "cells": [
  {
   "cell_type": "code",
   "execution_count": 1,
   "id": "81173a14-afae-49b7-a798-389fab6da462",
   "metadata": {},
   "outputs": [],
   "source": [
    "#Q1. Pearson correlation coefficient is a measure of the linear relationship between two variables. Suppose\n",
    "#you have collected data on the amount of time students spend studying for an exam and their final exam\n",
    "#scores. Calculate the Pearson correlation coefficient between these two variables and interpret the result."
   ]
  },
  {
   "cell_type": "code",
   "execution_count": null,
   "id": "3c3e9913-b2c0-4998-91a7-2523d25b2a30",
   "metadata": {},
   "outputs": [],
   "source": [
    "\n"
   ]
  },
  {
   "cell_type": "code",
   "execution_count": 5,
   "id": "2bded987-869b-42e9-a9a2-0f9554ea36eb",
   "metadata": {},
   "outputs": [
    {
     "data": {
      "text/html": [
       "<div>\n",
       "<style scoped>\n",
       "    .dataframe tbody tr th:only-of-type {\n",
       "        vertical-align: middle;\n",
       "    }\n",
       "\n",
       "    .dataframe tbody tr th {\n",
       "        vertical-align: top;\n",
       "    }\n",
       "\n",
       "    .dataframe thead th {\n",
       "        text-align: right;\n",
       "    }\n",
       "</style>\n",
       "<table border=\"1\" class=\"dataframe\">\n",
       "  <thead>\n",
       "    <tr style=\"text-align: right;\">\n",
       "      <th></th>\n",
       "      <th>Study Time (hours)</th>\n",
       "      <th>Exam Score</th>\n",
       "    </tr>\n",
       "  </thead>\n",
       "  <tbody>\n",
       "    <tr>\n",
       "      <th>Study Time (hours)</th>\n",
       "      <td>1.000000</td>\n",
       "      <td>0.892844</td>\n",
       "    </tr>\n",
       "    <tr>\n",
       "      <th>Exam Score</th>\n",
       "      <td>0.892844</td>\n",
       "      <td>1.000000</td>\n",
       "    </tr>\n",
       "  </tbody>\n",
       "</table>\n",
       "</div>"
      ],
      "text/plain": [
       "                    Study Time (hours)  Exam Score\n",
       "Study Time (hours)            1.000000    0.892844\n",
       "Exam Score                    0.892844    1.000000"
      ]
     },
     "execution_count": 5,
     "metadata": {},
     "output_type": "execute_result"
    }
   ],
   "source": [
    "import pandas as pd\n",
    "\n",
    "# Sample data\n",
    "data = {\n",
    "    'Study Time (hours)': [2, 3, 5, 1, 4],\n",
    "    'Exam Score': [75, 85, 90, 60, 80]\n",
    "}\n",
    "\n",
    "# Create a DataFrame\n",
    "df = pd.DataFrame(data)\n",
    "\n",
    "df.corr(method = 'pearson')\n"
   ]
  },
  {
   "cell_type": "code",
   "execution_count": 6,
   "id": "7e710e73-126e-4793-b315-949c6d27ff84",
   "metadata": {},
   "outputs": [],
   "source": [
    "#it suggests a positive linear correlation between study time and exam scores, meaning that as study time increases, exam scores tend to increase as well. "
   ]
  },
  {
   "cell_type": "code",
   "execution_count": 7,
   "id": "b52ca63a-f02c-4420-8bd0-cbdde81b7d56",
   "metadata": {},
   "outputs": [],
   "source": [
    "#Q2. Spearman's rank correlation is a measure of the monotonic relationship between two variables.\n",
    "#Suppose you have collected data on the amount of sleep individuals get each night and their overall job\n",
    "#satisfaction level on a scale of 1 to 10. Calculate the Spearman's rank correlation between these two\n",
    "#variables and interpret the result."
   ]
  },
  {
   "cell_type": "code",
   "execution_count": 8,
   "id": "f9d8d423-7c70-4154-a198-65420c4a4145",
   "metadata": {},
   "outputs": [
    {
     "data": {
      "text/html": [
       "<div>\n",
       "<style scoped>\n",
       "    .dataframe tbody tr th:only-of-type {\n",
       "        vertical-align: middle;\n",
       "    }\n",
       "\n",
       "    .dataframe tbody tr th {\n",
       "        vertical-align: top;\n",
       "    }\n",
       "\n",
       "    .dataframe thead th {\n",
       "        text-align: right;\n",
       "    }\n",
       "</style>\n",
       "<table border=\"1\" class=\"dataframe\">\n",
       "  <thead>\n",
       "    <tr style=\"text-align: right;\">\n",
       "      <th></th>\n",
       "      <th>Sleep Ind  (hours)</th>\n",
       "      <th>Job Satisfaction</th>\n",
       "    </tr>\n",
       "  </thead>\n",
       "  <tbody>\n",
       "    <tr>\n",
       "      <th>Sleep Ind  (hours)</th>\n",
       "      <td>1.000000</td>\n",
       "      <td>0.974679</td>\n",
       "    </tr>\n",
       "    <tr>\n",
       "      <th>Job Satisfaction</th>\n",
       "      <td>0.974679</td>\n",
       "      <td>1.000000</td>\n",
       "    </tr>\n",
       "  </tbody>\n",
       "</table>\n",
       "</div>"
      ],
      "text/plain": [
       "                    Sleep Ind  (hours)  Job Satisfaction\n",
       "Sleep Ind  (hours)            1.000000          0.974679\n",
       "Job Satisfaction              0.974679          1.000000"
      ]
     },
     "execution_count": 8,
     "metadata": {},
     "output_type": "execute_result"
    }
   ],
   "source": [
    "import pandas as pd\n",
    "\n",
    "# Sample data\n",
    "data = {\n",
    "    'Sleep Ind  (hours)': [7, 8, 10, 6, 9],\n",
    "    'Job Satisfaction': [7, 8, 9, 6, 8]\n",
    "}\n",
    "\n",
    "# Create a DataFrame\n",
    "df = pd.DataFrame(data)\n",
    "\n",
    "df.corr(method = 'spearman')"
   ]
  },
  {
   "cell_type": "code",
   "execution_count": null,
   "id": "8f090be7-14b2-41b2-81ba-0f3b011792f3",
   "metadata": {},
   "outputs": [],
   "source": [
    "#It suggests a positive linear correlation between sleep time and job satisfaction, meaning that as sleep  time increases, job satisfaction  increase as well. "
   ]
  },
  {
   "cell_type": "code",
   "execution_count": 9,
   "id": "b7716324-2df8-49a1-8c53-319fd4143bbf",
   "metadata": {},
   "outputs": [],
   "source": [
    "#Q3. Suppose you are conducting a study to examine the relationship between the number of hours of\n",
    "#exercise per week and body mass index (BMI) in a sample of adults. You collected data on both variables\n",
    "#for 50 participants. Calculate the Pearson correlation coefficient and the Spearman's rank correlation\n",
    "#between these two variables and compare the results. "
   ]
  },
  {
   "cell_type": "code",
   "execution_count": 18,
   "id": "bfea240f-f0dd-4ab0-a5d0-1a252b8b4408",
   "metadata": {},
   "outputs": [
    {
     "data": {
      "text/html": [
       "<div>\n",
       "<style scoped>\n",
       "    .dataframe tbody tr th:only-of-type {\n",
       "        vertical-align: middle;\n",
       "    }\n",
       "\n",
       "    .dataframe tbody tr th {\n",
       "        vertical-align: top;\n",
       "    }\n",
       "\n",
       "    .dataframe thead th {\n",
       "        text-align: right;\n",
       "    }\n",
       "</style>\n",
       "<table border=\"1\" class=\"dataframe\">\n",
       "  <thead>\n",
       "    <tr style=\"text-align: right;\">\n",
       "      <th></th>\n",
       "      <th>Hours Exercised</th>\n",
       "      <th>BMI</th>\n",
       "    </tr>\n",
       "  </thead>\n",
       "  <tbody>\n",
       "    <tr>\n",
       "      <th>Hours Exercised</th>\n",
       "      <td>1.000000</td>\n",
       "      <td>0.091573</td>\n",
       "    </tr>\n",
       "    <tr>\n",
       "      <th>BMI</th>\n",
       "      <td>0.091573</td>\n",
       "      <td>1.000000</td>\n",
       "    </tr>\n",
       "  </tbody>\n",
       "</table>\n",
       "</div>"
      ],
      "text/plain": [
       "                 Hours Exercised       BMI\n",
       "Hours Exercised         1.000000  0.091573\n",
       "BMI                     0.091573  1.000000"
      ]
     },
     "execution_count": 18,
     "metadata": {},
     "output_type": "execute_result"
    }
   ],
   "source": [
    "import numpy as np\n",
    "import pandas as pd\n",
    "\n",
    "\n",
    "# Create dataframe\n",
    "num_rows = 50\n",
    "num_columns = 2\n",
    "\n",
    "# Create random data using NumPy\n",
    "data = np.random.rand(num_rows, num_columns)\n",
    "\n",
    "# Create column names\n",
    "column_names = ['Hours Exercised', 'BMI']\n",
    "\n",
    "# Create a DataFrame\n",
    "df = pd.DataFrame(data, columns=column_names)\n",
    "\n",
    "\n",
    "# Calculate the Pearson correlation coefficient\n",
    "df.corr(method = 'pearson')\n",
    "\n",
    "# Spearman's rank correlation\n",
    "df.corr(method = 'spearman')\n",
    "\n"
   ]
  },
  {
   "cell_type": "code",
   "execution_count": 20,
   "id": "e2d4dd84-4dbd-448f-b027-8bdbf0c9c369",
   "metadata": {},
   "outputs": [],
   "source": [
    "#Both Pearson correlation and spearmans rank corelation show positive corelation \n",
    "#This means that the results are the same whether we use Pearson correlation or Spearman's rank correlation."
   ]
  },
  {
   "cell_type": "code",
   "execution_count": 21,
   "id": "f9286b1b-f2a6-4556-808d-f1412f9aca6a",
   "metadata": {},
   "outputs": [],
   "source": [
    "#Q4. A researcher is interested in examining the relationship between the number of hours individuals\n",
    "#spend watching television per day and their level of physical activity. The researcher collected data on\n",
    "#both variables from a sample of 50 participants. Calculate the Pearson correlation coefficient between\n",
    "#these two variables."
   ]
  },
  {
   "cell_type": "code",
   "execution_count": 23,
   "id": "1ddf1cf3-ffd6-472f-9123-f0b47f33a8a9",
   "metadata": {},
   "outputs": [
    {
     "data": {
      "text/html": [
       "<div>\n",
       "<style scoped>\n",
       "    .dataframe tbody tr th:only-of-type {\n",
       "        vertical-align: middle;\n",
       "    }\n",
       "\n",
       "    .dataframe tbody tr th {\n",
       "        vertical-align: top;\n",
       "    }\n",
       "\n",
       "    .dataframe thead th {\n",
       "        text-align: right;\n",
       "    }\n",
       "</style>\n",
       "<table border=\"1\" class=\"dataframe\">\n",
       "  <thead>\n",
       "    <tr style=\"text-align: right;\">\n",
       "      <th></th>\n",
       "      <th>Hours watching telivision</th>\n",
       "      <th>level of physical activity</th>\n",
       "    </tr>\n",
       "  </thead>\n",
       "  <tbody>\n",
       "    <tr>\n",
       "      <th>Hours watching telivision</th>\n",
       "      <td>1.000000</td>\n",
       "      <td>0.048861</td>\n",
       "    </tr>\n",
       "    <tr>\n",
       "      <th>level of physical activity</th>\n",
       "      <td>0.048861</td>\n",
       "      <td>1.000000</td>\n",
       "    </tr>\n",
       "  </tbody>\n",
       "</table>\n",
       "</div>"
      ],
      "text/plain": [
       "                            Hours watching telivision  \\\n",
       "Hours watching telivision                    1.000000   \n",
       "level of physical activity                   0.048861   \n",
       "\n",
       "                            level of physical activity  \n",
       "Hours watching telivision                     0.048861  \n",
       "level of physical activity                    1.000000  "
      ]
     },
     "execution_count": 23,
     "metadata": {},
     "output_type": "execute_result"
    }
   ],
   "source": [
    "import numpy as np\n",
    "import pandas as pd\n",
    "\n",
    "\n",
    "# Create dataframe\n",
    "num_rows = 50\n",
    "num_columns = 2\n",
    "\n",
    "# Create random data using NumPy\n",
    "data = np.random.rand(num_rows, num_columns)\n",
    "\n",
    "# Create column names\n",
    "column_names = ['Hours watching telivision', 'level of physical activity']\n",
    "\n",
    "# Create a DataFrame\n",
    "df = pd.DataFrame(data, columns=column_names)\n",
    "\n",
    "\n",
    "# Calculate the Pearson correlation coefficient\n",
    "df.corr(method = 'pearson')\n"
   ]
  },
  {
   "cell_type": "code",
   "execution_count": 25,
   "id": "c3b8dffb-4bb3-431c-8d96-88b32018a51e",
   "metadata": {},
   "outputs": [],
   "source": [
    "#Q5. A survey was conducted to examine the relationship between age and preference for a particular\n",
    "#brand of soft drink. The survey results are shown below:"
   ]
  },
  {
   "cell_type": "code",
   "execution_count": 32,
   "id": "8c73e241-c912-4d8f-ab00-cc3995d1f1b9",
   "metadata": {},
   "outputs": [
    {
     "name": "stderr",
     "output_type": "stream",
     "text": [
      "/tmp/ipykernel_362/1110713661.py:23: FutureWarning: The default value of numeric_only in DataFrame.corr is deprecated. In a future version, it will default to False. Select only valid columns or specify the value of numeric_only to silence this warning.\n",
      "  df.corr(method = 'spearman')\n"
     ]
    },
    {
     "data": {
      "text/html": [
       "<div>\n",
       "<style scoped>\n",
       "    .dataframe tbody tr th:only-of-type {\n",
       "        vertical-align: middle;\n",
       "    }\n",
       "\n",
       "    .dataframe tbody tr th {\n",
       "        vertical-align: top;\n",
       "    }\n",
       "\n",
       "    .dataframe thead th {\n",
       "        text-align: right;\n",
       "    }\n",
       "</style>\n",
       "<table border=\"1\" class=\"dataframe\">\n",
       "  <thead>\n",
       "    <tr style=\"text-align: right;\">\n",
       "      <th></th>\n",
       "      <th>Age (Years)</th>\n",
       "      <th>Drink Preference (Numerical)</th>\n",
       "    </tr>\n",
       "  </thead>\n",
       "  <tbody>\n",
       "    <tr>\n",
       "      <th>Age (Years)</th>\n",
       "      <td>1.000000</td>\n",
       "      <td>0.833238</td>\n",
       "    </tr>\n",
       "    <tr>\n",
       "      <th>Drink Preference (Numerical)</th>\n",
       "      <td>0.833238</td>\n",
       "      <td>1.000000</td>\n",
       "    </tr>\n",
       "  </tbody>\n",
       "</table>\n",
       "</div>"
      ],
      "text/plain": [
       "                              Age (Years)  Drink Preference (Numerical)\n",
       "Age (Years)                      1.000000                      0.833238\n",
       "Drink Preference (Numerical)     0.833238                      1.000000"
      ]
     },
     "execution_count": 32,
     "metadata": {},
     "output_type": "execute_result"
    }
   ],
   "source": [
    "import pandas as pd\n",
    "\n",
    "\n",
    "# Survey results\n",
    "data = {\n",
    "    'Age (Years)': [25, 42, 37, 19, 31, 28],\n",
    "    'Soft Drink Preference': ['coke', 'pepsi', 'Mountaindew', 'coke', 'pepsi', 'coke']\n",
    "}\n",
    "\n",
    "# Create a DataFrame\n",
    "df = pd.DataFrame(data)\n",
    "\n",
    "# Map drink preference to numerical values\n",
    "drink_preference_mapping = {\n",
    "    'coke': 1,\n",
    "    'pepsi': 2,\n",
    "    'Mountaindew': 3\n",
    "}\n",
    "\n",
    "df['Drink Preference (Numerical)'] = df['Soft Drink Preference'].map(drink_preference_mapping)\n",
    "\n",
    "# Spearman's rank correlation\n",
    "df.corr(method = 'spearman')"
   ]
  },
  {
   "cell_type": "code",
   "execution_count": null,
   "id": "2dda6226-5bf8-49b4-b665-05a6f0d946b2",
   "metadata": {},
   "outputs": [],
   "source": [
    "#Q6. A company is interested in examining the relationship between the number of sales calls made per day\n",
    "#and the number of sales made per week. The company collected data on both variables from a sample of\n",
    "#30 sales representatives. Calculate the Pearson correlation coefficient between these two variables."
   ]
  },
  {
   "cell_type": "code",
   "execution_count": 33,
   "id": "bef2f520-b285-416e-bb2b-8ed6465c6573",
   "metadata": {},
   "outputs": [
    {
     "data": {
      "text/html": [
       "<div>\n",
       "<style scoped>\n",
       "    .dataframe tbody tr th:only-of-type {\n",
       "        vertical-align: middle;\n",
       "    }\n",
       "\n",
       "    .dataframe tbody tr th {\n",
       "        vertical-align: top;\n",
       "    }\n",
       "\n",
       "    .dataframe thead th {\n",
       "        text-align: right;\n",
       "    }\n",
       "</style>\n",
       "<table border=\"1\" class=\"dataframe\">\n",
       "  <thead>\n",
       "    <tr style=\"text-align: right;\">\n",
       "      <th></th>\n",
       "      <th>Sales Call made per day</th>\n",
       "      <th>sales made per week</th>\n",
       "    </tr>\n",
       "  </thead>\n",
       "  <tbody>\n",
       "    <tr>\n",
       "      <th>Sales Call made per day</th>\n",
       "      <td>1.00000</td>\n",
       "      <td>0.04351</td>\n",
       "    </tr>\n",
       "    <tr>\n",
       "      <th>sales made per week</th>\n",
       "      <td>0.04351</td>\n",
       "      <td>1.00000</td>\n",
       "    </tr>\n",
       "  </tbody>\n",
       "</table>\n",
       "</div>"
      ],
      "text/plain": [
       "                         Sales Call made per day  sales made per week\n",
       "Sales Call made per day                  1.00000              0.04351\n",
       "sales made per week                      0.04351              1.00000"
      ]
     },
     "execution_count": 33,
     "metadata": {},
     "output_type": "execute_result"
    }
   ],
   "source": [
    "import numpy as np\n",
    "import pandas as pd\n",
    "\n",
    "\n",
    "# Create dataframe\n",
    "num_rows = 30\n",
    "num_columns = 2\n",
    "\n",
    "# Create random data using NumPy\n",
    "data = np.random.rand(num_rows, num_columns)\n",
    "\n",
    "# Create column names\n",
    "column_names = ['Sales Call made per day', 'sales made per week']\n",
    "\n",
    "# Create a DataFrame\n",
    "df = pd.DataFrame(data, columns=column_names)\n",
    "\n",
    "\n",
    "# Calculate the Pearson correlation coefficient\n",
    "df.corr(method = 'pearson')"
   ]
  },
  {
   "cell_type": "code",
   "execution_count": null,
   "id": "d793855b-172e-461f-a6be-7ba7fddf8468",
   "metadata": {},
   "outputs": [],
   "source": []
  }
 ],
 "metadata": {
  "kernelspec": {
   "display_name": "Python 3 (ipykernel)",
   "language": "python",
   "name": "python3"
  },
  "language_info": {
   "codemirror_mode": {
    "name": "ipython",
    "version": 3
   },
   "file_extension": ".py",
   "mimetype": "text/x-python",
   "name": "python",
   "nbconvert_exporter": "python",
   "pygments_lexer": "ipython3",
   "version": "3.10.8"
  }
 },
 "nbformat": 4,
 "nbformat_minor": 5
}
